{
 "cells": [
  {
   "cell_type": "code",
   "execution_count": 39,
   "metadata": {},
   "outputs": [],
   "source": [
    "from tensorflow.keras.models import load_model\n",
    "import cv2\n",
    "import os\n",
    "import numpy as np\n"
   ]
  },
  {
   "cell_type": "code",
   "execution_count": 47,
   "metadata": {},
   "outputs": [],
   "source": [
    "class Main:\n",
    "    def __init__(self):\n",
    "        self.model=load_model('model1.h5')\n",
    "    \n",
    "    def pred(self,img):\n",
    "        re=self.model.predict(img)\n",
    "        age=round(re[1][0][0])\n",
    "        gender=round(re[0][0][0])\n",
    "        print(re)\n",
    "        return age,gender\n",
    "    \n",
    "\n",
    "    def start(self,img):\n",
    "        face = img\n",
    "        #face = cv2.cvtColor(face,cv2.COLOR_BGR2RGB)\n",
    "        face = cv2.resize(face,(32,32))\n",
    "        face = face.reshape((1,32,32,3))\n",
    "        age,gender=self.pred(face);\n",
    "        return age,gender\n",
    "    \n",
    "    def detect_face(self,img):\n",
    "        face_cascade=cv2.CascadeClassifier('haarcascade_frontalface_default.xml')\n",
    "        gray=cv2.cvtColor(img,cv2.COLOR_BGR2GRAY)\n",
    "        faces=face_cascade.detectMultiScale(gray,1.3,5)\n",
    "        for (x,y,w,h) in faces:\n",
    "            face=img[y:y+h,x:x+w]\n",
    "        return face\n",
    "    "
   ]
  },
  {
   "cell_type": "markdown",
   "metadata": {},
   "source": [
    "def pred(img,model):\n",
    "    re=model.predict(img)\n",
    "    age=round(re[1][0][0])\n",
    "    gender=round(re[0][0][0])\n",
    "    print(re)\n",
    "    return age,gender\n",
    "    \n",
    "\n",
    "def start(folder):\n",
    "    model=load_model('model.h5')\n",
    "    age=[]\n",
    "    gender=[]\n",
    "    \n",
    "    for photo in os.listdir(folder):\n",
    "        face = cv2.imread(folder+photo)\n",
    "        #face = cv2.cvtColor(face,cv2.COLOR_BGR2RGB)\n",
    "        face = cv2.resize(face,(32,32))\n",
    "        face = face.reshape((1,32,32,3))\n",
    "        re_age,re_gender=pred(face,model)\n",
    "        age.append(re_age)\n",
    "        gender.append(re_gender)\n",
    "    return max(age,key=age.count),max(gender,key=gender.count)\n",
    "        \n",
    "    "
   ]
  },
  {
   "cell_type": "code",
   "execution_count": 68,
   "metadata": {},
   "outputs": [],
   "source": [
    "#f=Main()\n",
    "\n",
    "#img=cv2.imread('IMG_20191018_124953.jpg')\n",
    "\n",
    "#faces=f.detect_face(img)\n",
    "\n",
    "#faces\n",
    "\n",
    "#for (x,y,w,h) in faces:\n",
    "    #cv2.rectangle(img,(x,y),(x+w,y+h),(255,0,0),2)\n",
    "#cv2.imshow('IMG_20191018_121312.jpg',img)\n",
    "#cv2.waitKey(0)\n",
    "#cv2.destroyAllWindows()\n",
    "\n",
    "#age,gender=f.start(faces)\n",
    "\n",
    "#age"
   ]
  },
  {
   "cell_type": "code",
   "execution_count": null,
   "metadata": {},
   "outputs": [],
   "source": []
  }
 ],
 "metadata": {
  "kernelspec": {
   "display_name": "Python 3",
   "language": "python",
   "name": "python3"
  },
  "language_info": {
   "codemirror_mode": {
    "name": "ipython",
    "version": 3
   },
   "file_extension": ".py",
   "mimetype": "text/x-python",
   "name": "python",
   "nbconvert_exporter": "python",
   "pygments_lexer": "ipython3",
   "version": "3.6.5"
  }
 },
 "nbformat": 4,
 "nbformat_minor": 2
}
